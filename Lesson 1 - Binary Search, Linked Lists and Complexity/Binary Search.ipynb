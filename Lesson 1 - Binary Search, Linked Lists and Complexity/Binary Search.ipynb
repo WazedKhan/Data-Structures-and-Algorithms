{
 "cells": [
  {
   "cell_type": "markdown",
   "source": [
    "## Problem \r\n",
    "\r\n",
    "This course takes a coding-focused approach towards learning. In each notebook, we'll focus on solving one problem, and learn the techniques, algorithms, and data structures to devise an *efficient* solution. We will then generalize the technique and apply it to other problems.\r\n",
    "\r\n",
    "\r\n",
    "\r\n",
    "In this notebook, we focus on solving the following problem:\r\n",
    "\r\n",
    "> ## **QUESTION 1:**  Alice has some cards with numbers written on them. She arranges the cards in decreasing order, and lays them out face down in a sequence on a table. She challenges Bob to pick out the card containing a given number by turning over as few cards as possible. Write a function to help Bob locate the card.<br>\r\n",
    "\r\n",
    ".<br>.\r\n",
    "\r\n",
    "<img src=\"https://i.imgur.com/mazym6s.png\" width=\"480\">\r\n",
    "\r\n",
    "This may seem like a simple problem, especially if you're familiar with the concept of _binary search_, but the strategy and technique we learning here will be widely applicable, and we'll soon use it to solve harder problems."
   ],
   "metadata": {}
  },
  {
   "cell_type": "markdown",
   "source": [
    "## The Method\r\n",
    "\r\n",
    "Upon reading the problem, you may get some ideas on how to solve it and your first instinct might be to start writing code. This is not the optimal strategy and you may end up spending a longer time trying to solve the problem due to coding errors, or may not be able to solve it at all.\r\n",
    "\r\n",
    "Here's a systematic strategy we'll apply for solving problems:\r\n",
    "\r\n",
    "1. State the problem clearly. Identify the input & output formats.\r\n",
    "2. Come up with some example inputs & outputs. Try to cover all edge cases.\r\n",
    "3. Come up with a correct solution for the problem. State it in plain English.\r\n",
    "4. Implement the solution and test it using example inputs. Fix bugs, if any.\r\n",
    "5. Analyze the algorithm's complexity and identify inefficiencies, if any.\r\n",
    "6. Apply the right technique to overcome the inefficiency. Repeat steps 3 to 6.\r\n",
    "\r\n",
    "_\"Applying the right technique\"_ is where the knowledge of common data structures and algorithms comes in handy. \r\n"
   ],
   "metadata": {}
  },
  {
   "cell_type": "markdown",
   "source": [
    "## Solution\r\n",
    "\r\n",
    "\r\n",
    "### 1. State the problem clearly. Identify the input & output formats.\r\n",
    "\r\n",
    "You will often encounter detailed word problems in coding challenges and interviews. The first step is to state the problem clearly and precisely in abstract terms. \r\n",
    "\r\n",
    "<img src=\"https://i.imgur.com/mazym6s.png\" width=\"480\">\r\n",
    "\r\n",
    "In this case, for instance, we can represent the sequence of cards as a list of numbers. Turning over a specific card is equivalent to accessing the value of the number at the corresponding position the list. \r\n",
    "\r\n",
    "\r\n",
    "#### Problem\r\n",
    "\r\n",
    "> We need to write a program to find the position of a given number in a list of numbers arranged in decreasing order. We also need to minimize the number of times we access elements from the list.\r\n",
    "\r\n",
    "#### Input\r\n",
    "\r\n",
    "1. `cards`: A list of numbers sorted in decreasing order. E.g. `[13, 11, 10, 7, 4, 3, 1, 0]`\r\n",
    "2. `query`: A number, whose position in the array is to be determined. E.g. `7`\r\n",
    "\r\n",
    "#### Output\r\n",
    "\r\n",
    "3. `position`: The position of `query` in the list `cards`. E.g. `3` in the above case (counting from `0`)\r\n",
    "\r\n",
    "\r\n",
    "\r\n",
    "#### <orange> Possible Errors\r\n",
    "1. `Array out of index` Must need to maintain the range of the array\r\n",
    "2. `Query is not in the list` it can happen that the card we are looking for not in the list"
   ],
   "metadata": {}
  },
  {
   "cell_type": "markdown",
   "source": [
    "> ## Mathods\r\n",
    "\r\n",
    "1. Chacks if the middle number is the number\r\n",
    "2. if not then check queried number is greater or lower then the middle number\r\n",
    "3. if lower lose the right side elements of the array as array is ordered\r\n",
    "4. if higher lose the left side elements of the array\r\n",
    "5. repeat step-1 on the remaing elements of the if found then print the location if not then repeat step 2 3 4\r\n",
    "6. if number is not found then return -1. \r\n"
   ],
   "metadata": {}
  },
  {
   "cell_type": "code",
   "execution_count": null,
   "source": [
    "def locate_card(cards, query):\r\n",
    "    star_p = \r\n"
   ],
   "outputs": [],
   "metadata": {}
  }
 ],
 "metadata": {
  "orig_nbformat": 4,
  "language_info": {
   "name": "python",
   "version": "3.9.6",
   "mimetype": "text/x-python",
   "codemirror_mode": {
    "name": "ipython",
    "version": 3
   },
   "pygments_lexer": "ipython3",
   "nbconvert_exporter": "python",
   "file_extension": ".py"
  },
  "kernelspec": {
   "name": "python3",
   "display_name": "Python 3.9.6 64-bit"
  },
  "interpreter": {
   "hash": "dcacb0086e9a4f4eabd41c33bf4faac5ea0a3337ed3f5eff0680afa930572c04"
  }
 },
 "nbformat": 4,
 "nbformat_minor": 2
}