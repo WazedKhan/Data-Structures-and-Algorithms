{
 "cells": [
  {
   "cell_type": "markdown",
   "source": [
    "## Problem \r\n",
    "\r\n",
    "This course takes a coding-focused approach towards learning. In each notebook, we'll focus on solving one problem, and learn the techniques, algorithms, and data structures to devise an *efficient* solution. We will then generalize the technique and apply it to other problems.\r\n",
    "\r\n",
    "\r\n",
    "\r\n",
    "In this notebook, we focus on solving the following problem:\r\n",
    "\r\n",
    "> ## **QUESTION 1:**  Alice has some cards with numbers written on them. She arranges the cards in decreasing order, and lays them out face down in a sequence on a table. She challenges Bob to pick out the card containing a given number by turning over as few cards as possible. Write a function to help Bob locate the card.<br>\r\n",
    "\r\n",
    ".<br>.\r\n",
    "\r\n",
    "<img src=\"https://i.imgur.com/mazym6s.png\" width=\"480\">\r\n",
    "\r\n",
    "This may seem like a simple problem, especially if you're familiar with the concept of _binary search_, but the strategy and technique we learning here will be widely applicable, and we'll soon use it to solve harder problems."
   ],
   "metadata": {}
  },
  {
   "cell_type": "markdown",
   "source": [
    "## The Method\r\n",
    "\r\n",
    "Upon reading the problem, you may get some ideas on how to solve it and your first instinct might be to start writing code. This is not the optimal strategy and you may end up spending a longer time trying to solve the problem due to coding errors, or may not be able to solve it at all.\r\n",
    "\r\n",
    "Here's a systematic strategy we'll apply for solving problems:\r\n",
    "\r\n",
    "1. State the problem clearly. Identify the input & output formats.\r\n",
    "2. Come up with some example inputs & outputs. Try to cover all edge cases.\r\n",
    "3. Come up with a correct solution for the problem. State it in plain English.\r\n",
    "4. Implement the solution and test it using example inputs. Fix bugs, if any.\r\n",
    "5. Analyze the algorithm's complexity and identify inefficiencies, if any.\r\n",
    "6. Apply the right technique to overcome the inefficiency. Repeat steps 3 to 6.\r\n",
    "\r\n",
    "_\"Applying the right technique\"_ is where the knowledge of common data structures and algorithms comes in handy. \r\n"
   ],
   "metadata": {}
  },
  {
   "cell_type": "markdown",
   "source": [
    "## Solution\r\n",
    "\r\n",
    "\r\n",
    "### 1. State the problem clearly. Identify the input & output formats.\r\n",
    "\r\n",
    "You will often encounter detailed word problems in coding challenges and interviews. The first step is to state the problem clearly and precisely in abstract terms. \r\n",
    "\r\n",
    "<img src=\"https://i.imgur.com/mazym6s.png\" width=\"480\">\r\n",
    "\r\n",
    "In this case, for instance, we can represent the sequence of cards as a list of numbers. Turning over a specific card is equivalent to accessing the value of the number at the corresponding position the list. \r\n",
    "\r\n",
    "<img src=\"https://i.imgur.com/G9fBarb.png\" width=\"600\">\r\n",
    "\r\n",
    "The problem can now be stated as follows:\r\n",
    "\r\n",
    "#### Problem\r\n",
    "\r\n",
    "> We need to write a program to find the position of a given number in a list of numbers arranged in decreasing order. We also need to minimize the number of times we access elements from the list.\r\n",
    "\r\n",
    "#### Input\r\n",
    "\r\n",
    "1. `cards`: A list of numbers sorted in decreasing order. E.g. `[13, 11, 10, 7, 4, 3, 1, 0]`\r\n",
    "2. `query`: A number, whose position in the array is to be determined. E.g. `7`\r\n",
    "\r\n",
    "#### Output\r\n",
    "\r\n",
    "3. `position`: The position of `query` in the list `cards`. E.g. `3` in the above case (counting from `0`)\r\n",
    "\r\n",
    "\r\n",
    "\r\n",
    "Based on the above, we can now create the signature of our function:"
   ],
   "metadata": {}
  },
  {
   "cell_type": "code",
   "execution_count": 64,
   "source": [
    "test = {\r\n",
    "    'input': { \r\n",
    "        'cards': [13, 11, 10, 7, 4, 3, 1, 0], \r\n",
    "        'query': 7\r\n",
    "    },\r\n",
    "    'output': 3\r\n",
    "}\r\n"
   ],
   "outputs": [],
   "metadata": {}
  },
  {
   "cell_type": "code",
   "execution_count": 65,
   "source": [
    "tests = []\r\n",
    "tests.append(test)\r\n",
    "\r\n",
    "tests.append({\r\n",
    "    'input': {\r\n",
    "        'cards': [13, 11, 10, 7, 4, 3, 1, 0],\r\n",
    "        'query': 1\r\n",
    "    },\r\n",
    "    'output': 6\r\n",
    "})"
   ],
   "outputs": [],
   "metadata": {}
  },
  {
   "cell_type": "code",
   "execution_count": 66,
   "source": [
    "tests.append({\r\n",
    "    'input': {\r\n",
    "        'cards':[4, 2, 1, -1],\r\n",
    "        'query':6\r\n",
    "    },\r\n",
    "    'output': -1\r\n",
    "})\r\n",
    "tests.append({\r\n",
    "    'input': {\r\n",
    "        'cards': [3, -1, -9, -127],\r\n",
    "        'query': -127\r\n",
    "    },\r\n",
    "    'output': 3\r\n",
    "})\r\n",
    "tests.append({\r\n",
    "    'input': {\r\n",
    "        'cards': [6],\r\n",
    "        'query': 6\r\n",
    "    },\r\n",
    "    'output': 0 \r\n",
    "})"
   ],
   "outputs": [],
   "metadata": {}
  },
  {
   "cell_type": "code",
   "execution_count": 67,
   "source": [
    "tests"
   ],
   "outputs": [
    {
     "output_type": "execute_result",
     "data": {
      "text/plain": [
       "[{'input': {'cards': [13, 11, 10, 7, 4, 3, 1, 0], 'query': 7}, 'output': 3},\n",
       " {'input': {'cards': [13, 11, 10, 7, 4, 3, 1, 0], 'query': 1}, 'output': 6},\n",
       " {'input': {'cards': [4, 2, 1, -1], 'query': 6}, 'output': -1},\n",
       " {'input': {'cards': [3, -1, -9, -127], 'query': -127}, 'output': 3},\n",
       " {'input': {'cards': [6], 'query': 6}, 'output': 0}]"
      ]
     },
     "metadata": {},
     "execution_count": 67
    }
   ],
   "metadata": {}
  },
  {
   "cell_type": "markdown",
   "source": [
    "### 3. Come up with a correct solution for the problem. State it in plain English.\r\n",
    "\r\n",
    "Our first goal should always be to come up with a _correct_ solution to the problem, which may necessarily be the most _efficient_ solution. The simplest or most obvious solution to a problem, which generally involves checking all possible answers is called the _brute force_ solution.\r\n",
    "\r\n",
    "In this problem, coming up with a correct solution is quite easy: Bob can simply turn over cards in order one by one, till he find a card with the given number on it. Here's how we might implement it:\r\n",
    "\r\n",
    "1. Create a variable `position` with the value 0.\r\n",
    "3. Check whether the number at index `position` in `card` equals `query`.\r\n",
    "4. If it does, `position` is the answer and can be returned from the function\r\n",
    "5. If not, increment the value of `position` by 1, and repeat steps 2 to 5 till we reach the last position.\r\n",
    "6. If the number was not found, return `-1`."
   ],
   "metadata": {}
  },
  {
   "cell_type": "code",
   "execution_count": 68,
   "source": [
    "def locate_card(cards,query):\r\n",
    "  for i in range(len(cards)):\r\n",
    "    if cards[i] == query:\r\n",
    "      return i\r\n",
    "  return -1"
   ],
   "outputs": [],
   "metadata": {}
  },
  {
   "cell_type": "code",
   "execution_count": 69,
   "source": [
    "result = locate_card(test['input']['cards'], test['input']['query'])\r\n",
    "result"
   ],
   "outputs": [
    {
     "output_type": "execute_result",
     "data": {
      "text/plain": [
       "3"
      ]
     },
     "metadata": {},
     "execution_count": 69
    }
   ],
   "metadata": {}
  },
  {
   "cell_type": "code",
   "execution_count": 70,
   "source": [
    "!pip install jovian --upgrade --quiet"
   ],
   "outputs": [
    {
     "output_type": "stream",
     "name": "stderr",
     "text": [
      "WARNING: You are using pip version 21.1.3; however, version 21.2.4 is available.\n",
      "You should consider upgrading via the 'c:\\users\\admin\\appdata\\local\\programs\\python\\python39\\python.exe -m pip install --upgrade pip' command.\n"
     ]
    }
   ],
   "metadata": {}
  },
  {
   "cell_type": "code",
   "execution_count": 71,
   "source": [
    "from jovian.pythondsa import evaluate_test_cases\r\n",
    "evaluate_test_cases(locate_card, tests)"
   ],
   "outputs": [
    {
     "output_type": "stream",
     "name": "stdout",
     "text": [
      "\n",
      "\u001b[1mTEST CASE #0\u001b[0m\n",
      "\n",
      "Input:\n",
      "{'cards': [13, 11, 10, 7, 4, 3, 1, 0], 'query': 7}\n",
      "\n",
      "Expected Output:\n",
      "3\n",
      "\n",
      "\n",
      "Actual Output:\n",
      "3\n",
      "\n",
      "Execution Time:\n",
      "0.004 ms\n",
      "\n",
      "Test Result:\n",
      "\u001b[92mPASSED\u001b[0m\n",
      "\n",
      "\n",
      "\u001b[1mTEST CASE #1\u001b[0m\n",
      "\n",
      "Input:\n",
      "{'cards': [13, 11, 10, 7, 4, 3, 1, 0], 'query': 1}\n",
      "\n",
      "Expected Output:\n",
      "6\n",
      "\n",
      "\n",
      "Actual Output:\n",
      "6\n",
      "\n",
      "Execution Time:\n",
      "0.003 ms\n",
      "\n",
      "Test Result:\n",
      "\u001b[92mPASSED\u001b[0m\n",
      "\n",
      "\n",
      "\u001b[1mTEST CASE #2\u001b[0m\n",
      "\n",
      "Input:\n",
      "{'cards': [4, 2, 1, -1], 'query': 6}\n",
      "\n",
      "Expected Output:\n",
      "-1\n",
      "\n",
      "\n",
      "Actual Output:\n",
      "-1\n",
      "\n",
      "Execution Time:\n",
      "0.002 ms\n",
      "\n",
      "Test Result:\n",
      "\u001b[92mPASSED\u001b[0m\n",
      "\n",
      "\n",
      "\u001b[1mTEST CASE #3\u001b[0m\n",
      "\n",
      "Input:\n",
      "{'cards': [3, -1, -9, -127], 'query': -127}\n",
      "\n",
      "Expected Output:\n",
      "3\n",
      "\n",
      "\n",
      "Actual Output:\n",
      "3\n",
      "\n",
      "Execution Time:\n",
      "0.002 ms\n",
      "\n",
      "Test Result:\n",
      "\u001b[92mPASSED\u001b[0m\n",
      "\n",
      "\n",
      "\u001b[1mTEST CASE #4\u001b[0m\n",
      "\n",
      "Input:\n",
      "{'cards': [6], 'query': 6}\n",
      "\n",
      "Expected Output:\n",
      "0\n",
      "\n",
      "\n",
      "Actual Output:\n",
      "0\n",
      "\n",
      "Execution Time:\n",
      "0.002 ms\n",
      "\n",
      "Test Result:\n",
      "\u001b[92mPASSED\u001b[0m\n",
      "\n",
      "\n",
      "\u001b[1mSUMMARY\u001b[0m\n",
      "\n",
      "TOTAL: 5, \u001b[92mPASSED\u001b[0m: 5, \u001b[91mFAILED\u001b[0m: 0\n"
     ]
    },
    {
     "output_type": "execute_result",
     "data": {
      "text/plain": [
       "[(3, True, 0.004),\n",
       " (6, True, 0.003),\n",
       " (-1, True, 0.002),\n",
       " (3, True, 0.002),\n",
       " (0, True, 0.002)]"
      ]
     },
     "metadata": {},
     "execution_count": 71
    }
   ],
   "metadata": {}
  }
 ],
 "metadata": {
  "orig_nbformat": 4,
  "language_info": {
   "name": "python",
   "version": "3.9.6",
   "mimetype": "text/x-python",
   "codemirror_mode": {
    "name": "ipython",
    "version": 3
   },
   "pygments_lexer": "ipython3",
   "nbconvert_exporter": "python",
   "file_extension": ".py"
  },
  "kernelspec": {
   "name": "python3",
   "display_name": "Python 3.9.6 64-bit"
  },
  "interpreter": {
   "hash": "dcacb0086e9a4f4eabd41c33bf4faac5ea0a3337ed3f5eff0680afa930572c04"
  }
 },
 "nbformat": 4,
 "nbformat_minor": 2
}